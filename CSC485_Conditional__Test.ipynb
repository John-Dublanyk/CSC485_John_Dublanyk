{
  "nbformat": 4,
  "nbformat_minor": 0,
  "metadata": {
    "colab": {
      "provenance": [],
      "authorship_tag": "ABX9TyNhxdgkL+mThSYGfPrHq9S6",
      "include_colab_link": true
    },
    "kernelspec": {
      "name": "python3",
      "display_name": "Python 3"
    },
    "language_info": {
      "name": "python"
    }
  },
  "cells": [
    {
      "cell_type": "markdown",
      "metadata": {
        "id": "view-in-github",
        "colab_type": "text"
      },
      "source": [
        "<a href=\"https://colab.research.google.com/github/John-Dublanyk/CSC485_John_Dublanyk/blob/main/CSC485_Conditional__Test.ipynb\" target=\"_parent\"><img src=\"https://colab.research.google.com/assets/colab-badge.svg\" alt=\"Open In Colab\"/></a>"
      ]
    },
    {
      "cell_type": "code",
      "execution_count": 10,
      "metadata": {
        "colab": {
          "base_uri": "https://localhost:8080/"
        },
        "id": "I2x8HuEFpx9Q",
        "outputId": "3e521ab0-d04c-468f-be24-a9b9c2156c15"
      },
      "outputs": [
        {
          "output_type": "stream",
          "name": "stdout",
          "text": [
            "'apple' Passed Test\n",
            "'Pear' Failed Test\n",
            "'cherry' Failed Test\n",
            "'' Failed Test\n"
          ]
        }
      ],
      "source": [
        "def is_it_a_fruit(fruit_candidate):\n",
        "    fruits = ['apple', 'pear', 'bananna', 'grape']\n",
        "\n",
        "    if fruit_candidate in fruits:\n",
        "        return True\n",
        "    else:\n",
        "        return False\n",
        "\n",
        "def conditional_test():\n",
        "  # Testing for valid fruit, capitalization, Fruits not in origanl list, empty str.\n",
        "    test_items = ['apple', 'Pear', 'cherry', '']\n",
        "\n",
        "    for i in test_items:\n",
        "      result = is_it_a_fruit(i)\n",
        "      if result:\n",
        "        print(f\"'{i}' Passed Test\")\n",
        "      else:\n",
        "        print(f\"'{i}' Failed Test\")\n",
        "conditional_test()"
      ]
    }
  ]
}